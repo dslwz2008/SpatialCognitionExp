{
 "cells": [
  {
   "cell_type": "code",
   "execution_count": 1,
   "metadata": {
    "collapsed": true
   },
   "outputs": [],
   "source": [
    "import numpy as np\n",
    "import matplotlib.pyplot as plt\n",
    "import pandas as pd"
   ]
  },
  {
   "cell_type": "code",
   "execution_count": 2,
   "metadata": {
    "collapsed": false
   },
   "outputs": [],
   "source": [
    "import sys\n",
    "import os\n",
    "import os.path"
   ]
  },
  {
   "cell_type": "code",
   "execution_count": 3,
   "metadata": {
    "collapsed": false
   },
   "outputs": [
    {
     "name": "stdout",
     "output_type": "stream",
     "text": [
      "MainCamera_01-22-2017-17-17.csv\n",
      "MainCamera_01-22-2017-17-33.csv\n",
      "MainCamera_02-14-2017-15-15.csv\n",
      "����MainCamera_02-14-2017-15-09.csv\n",
      "��ΰMainCamera_01-17-2017-15-21.csv\n",
      "��Ȩ��MainCamera_02-08-2017-14-03.csv\n",
      "������MainCamera_01-16-2017-15-21.csv\n",
      "���ľ�MainCamera_02-22-2017-21-01.csv\n",
      "������MainCamera_02-14-2017-10-05.csv\n",
      "����MainCamera_02-14-2017-09-59.csv\n",
      "��ʤ��MainCamera_02-22-2017-14-48.csv\n",
      "���MainCamera_01-16-2017-11-26.csv\n",
      "����ӱMainCamera_02-14-2017-15-16.csv\n",
      "�Ŷ�MainCamera_01-16-2017-10-44.csv\n",
      "�ż���MainCamera_01-17-2017-15-15.csv\n",
      "����MainCamera_02-14-2017-09-50.csv\n",
      "�����MainCamera_01-16-2017-11-55.csv\n",
      "���ĺ�MainCamera_01-19-2017-17-53.csv\n",
      "����MainCamera_01-19-2017-09-48.csv\n",
      "��ѶMainCamera_01-18-2017-18-34.csv\n",
      "��˹��MainCamera_01-16-2017-10-51.csv\n",
      "������MainCamera_02-14-2017-16-32.csv\n",
      "���ľ�MainCamera_01-22-2017-17-33.csv\n",
      "�𶦼�MainCamera_02-09-2017-14-24.csv\n",
      "����MainCamera_01-16-2017-11-08.csv\n",
      "��ǱMainCamera_02-22-2017-21-10.csv\n"
     ]
    }
   ],
   "source": [
    "vrAnglesFolder = 'D:/Programs/SpatialCognitionExp/Assets/StreamingAssets/VRAngles/'\n",
    "for file in os.listdir(vrAnglesFolder):\n",
    "    if file.endswith('.csv'):\n",
    "        print file"
   ]
  },
  {
   "cell_type": "code",
   "execution_count": 15,
   "metadata": {
    "collapsed": false
   },
   "outputs": [
    {
     "name": "stdout",
     "output_type": "stream",
     "text": [
      "this is a 9.690016\n"
     ]
    }
   ],
   "source": [
    "print 'this is a %f' % 9.690015747404843"
   ]
  },
  {
   "cell_type": "code",
   "execution_count": null,
   "metadata": {
    "collapsed": true
   },
   "outputs": [],
   "source": [
    "df=pd.read_csv(vrAnglesFolder+'MainCamera_01-22-2017-17-17.csv',header=None,names=['angle1','angle2','angle3','angle4'])\n",
    "mean3 = df['angle3'].mean()\n",
    "mean4 = df['angle4'].mean()\n",
    "noZeroDf = df[df['angle1']!=0]\n",
    "mean1 = noZeroDf['angle1'].mean()\n",
    "mean2 = noZeroDf['angle2'].mean()"
   ]
  }
 ],
 "metadata": {
  "anaconda-cloud": {},
  "kernelspec": {
   "display_name": "Python [default]",
   "language": "python",
   "name": "python2"
  },
  "language_info": {
   "codemirror_mode": {
    "name": "ipython",
    "version": 2
   },
   "file_extension": ".py",
   "mimetype": "text/x-python",
   "name": "python",
   "nbconvert_exporter": "python",
   "pygments_lexer": "ipython2",
   "version": "2.7.12"
  }
 },
 "nbformat": 4,
 "nbformat_minor": 1
}
